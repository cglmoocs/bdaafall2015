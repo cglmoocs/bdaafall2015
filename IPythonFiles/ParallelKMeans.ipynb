{
 "metadata": {
  "name": "ParallelKMeans"
 },
 "nbformat": 3,
 "nbformat_minor": 0,
 "worksheets": [
  {
   "cells": [
    {
     "cell_type": "code",
     "collapsed": false,
     "input": "'''This file has code to perform kmeans in a parallel fashion. If the parellism parameters is set = 2 it k-means is parallelized If it is set to 1 it is not.'''\nfrom scipy.cluster.vq import vq\nimport numpy as np\nimport matplotlib.pyplot as plt",
     "language": "python",
     "metadata": {},
     "outputs": [],
     "prompt_number": 1
    },
    {
     "cell_type": "code",
     "collapsed": false,
     "input": "def kmeans_gcf(obs, NumClust, iter=20, thresh=1e-5, Parallelism = 1, MaxMean = 1):\n        if int(iter) < 1:\n                raise ValueError('iter must be at least 1.')\n                #initialize best distance value to a large value\n        best_dist = np.inf\n        if NumClust < 1:\n            raise ValueError(\"Asked for 0 cluster ? \")\n            \n        for i in range(iter):\n            #the intial code book is randomly selected from observations\n            book, distortavg, distortmax = raw_kmeans_gcf(obs, NumClust, thresh, Parallelism)\n            dist = distortavg\n            if MaxMean == 2:\n                    dist = distortmax\n            if dist < best_dist:\n                best_book = book\n                best_dist = dist\n        return best_book, best_dist",
     "language": "python",
     "metadata": {},
     "outputs": [
      {
       "ename": "IndentationError",
       "evalue": "unindent does not match any outer indentation level (<ipython-input-22-81c5b282a703>, line 6)",
       "output_type": "pyerr",
       "traceback": [
        "\u001b[1;36m  File \u001b[1;32m\"<ipython-input-22-81c5b282a703>\"\u001b[1;36m, line \u001b[1;32m6\u001b[0m\n\u001b[1;33m    best_dist = np.inf\u001b[0m\n\u001b[1;37m                      ^\u001b[0m\n\u001b[1;31mIndentationError\u001b[0m\u001b[1;31m:\u001b[0m unindent does not match any outer indentation level\n"
       ]
      }
     ],
     "prompt_number": 22
    },
    {
     "cell_type": "code",
     "collapsed": false,
     "input": "def raw_kmeans_gcf(obs, NumClust, thresh=1e-5, Parallelism = 1):\n#\tInitialize Code Book\n\tNo = obs.shape[0]\n\tcode_book = np.take(obs, np.random.randint(0, No, NumClust), 0)\n\t# obs is data; No is Number of Datapoints gotten from size of obs; NumClust is number of clusters desired\n\t# randinit(I1, I2, Num) calculates Num random integers r I1 <= r < I2\n\t# take returns an array selected from obs with 0'th index (lat argument specifies dimension) given in list of indices returned by randint\n\t#\n\tIseven = np.empty([tot], dtype=bool)\n\tfor i in np.arange(tot):\n\t\tIseven[i] = (i%2 == 0);\n\tobs1 = np.compress(Iseven, obs, 0)\n\tobs2 = np.compress(np.logical_not(Iseven), obs, 0)\n\n\tavg_dist = []\n\tdiff = thresh+1.\n\twhile diff > thresh:\n\t\t#\n\t\tif Parallelism == 1:\n\t\t\tcode_book, NumPointsinClusters, distortsum, distortmax, NumPoints  = Kmeans_map(obs, code_book)\n\t\tif Parallelism == 2:\n\t\t\t# Can be Parallel Map Operations\n\t\t\tcode_book1, NumPointsinClusters1, distortsum1, distortmax1, NumPoints1  = Kmeans_map(obs1, code_book)\n\t\t\tcode_book2, NumPointsinClusters2, distortsum2, distortmax2, NumPoints2  = Kmeans_map(obs2, code_book)\n\t\t\t#\n\t\t\t#\tFollowing are 4 Reduction Operations\n\t\t\t#\tNote maps include local reductions\n\t\t\tcode_book = np.add( code_book1, code_book2)\n\t\t\tNumPointsinClusters = np.add( NumPointsinClusters1, NumPointsinClusters2)\n\t\t\tdistortsum = distortsum1 + distortsum2\n\t\t\tdistortmax = np.maximum(distortmax1, distortmax2)\n\t\t\tNumPoints = NumPoints1 +  NumPoints2\n\t\t#\n\t\tcode_book = np.compress(np.greater(NumPointsinClusters, 0), code_book, 0)\n\t\t#\tremove code_books that didn't have any members\n\t\t#\n\t\tj = 0\n\t\tnc = code_book.shape[0]\n\t\tfor i in np.arange(nc):\n\t\t\tif NumPointsinClusters[i] > 0:\n\t\t\t\tcode_book[j,:] = code_book[j,:] / NumPointsinClusters[i]\n\t\t\t\tj = j + 1\n\t\t#\n\t\t# Calculate mean discrepancy\n\t\tdistortavg = distortsum/NumPoints\n\t\tavg_dist.append(distortavg)\n\t\tif len(avg_dist) > 1:\n\t\t    diff = avg_dist[-2] - avg_dist[-1]\n\t\t    #\tChange in average discrepancy\n\t\t    #\tCan also test on average discrepancy itself\n\t#\n\treturn code_book, distortavg, distortmax\n\t# Return Centroid array and final average discrepancy",
     "language": "python",
     "metadata": {},
     "outputs": [],
     "prompt_number": 6
    },
    {
     "cell_type": "code",
     "collapsed": false,
     "input": "#\n#\tExecute Kmeans map functions in parallel\n#\tNo test on cluster count as this must be summed over maps\ndef Kmeans_map(obs, code_book):\n\tNo = obs.shape[0]\n\tnc = code_book.shape[0]\n\t# nc is current number of clusters (may decrease if zero clusters last iteration)\n\t#\n\t#compute membership and distances between obs and code_book\n\tobs_code, distort = vq(obs, code_book)\n\tdistortsum = np.sum(distort)\n\tdistortmax = np.amax(distort)\n\t#\n\t# vq returns an indexing array obs_code mapping rows of obs (the points) to code_book (the centroids)\n\t# distort is an array of length No that has difference between observation and chosen centroid\n\t# vq stands for vector quantization and is provided in SciPy\n\t#\n\tVectorDimension = obs.shape[1]\n\tNewCode_Book = np.zeros([nc, VectorDimension])\n\tNumPointsinClusters = np.zeros([nc])\n\tfor i in np.arange(nc):\n\t\t#\tLoop over clusters labelled with i\n\t\tcell_members = np.compress(np.equal(obs_code, i), obs, 0)\n\t\tNumPointsinClusters[i] = cell_members.shape[0]\n\t\t#\tExtract Points in this Cluster; extract points whose quantization label is i\n\t\t#\n\t\tNewCode_Book[i] = np.sum(cell_members, 0)\n\t\t#\tCalculate centroid of i'th cluster\n\treturn NewCode_Book, NumPointsinClusters, distortsum, distortmax, No \n\t\t",
     "language": "python",
     "metadata": {},
     "outputs": [],
     "prompt_number": 7
    },
    {
     "cell_type": "code",
     "collapsed": false,
     "input": "Radii = np.array([ 0.375, 0.55, 0.6, 0.25 ])",
     "language": "python",
     "metadata": {},
     "outputs": [],
     "prompt_number": 8
    },
    {
     "cell_type": "code",
     "collapsed": false,
     "input": "\n#\tSet these values \n#\tSciPy default Thresh = 1.0E-5 Parallelism = 1 MaxMean = 1 NumIterations = 20 \nThresh = 1.0E-5\nParallelism = 1\nMaxMean = 1\nNumIterations = 1\n\nnClusters = 4\nnRepeat =   250\ntot = nClusters*nRepeat\nCenters1 = np.tile([0,0], (nRepeat,1))\nCenters2 = np.tile([3,3], (nRepeat,1))\nCenters3 = np.tile([0,3], (nRepeat,1))\nCenters4 = np.tile([3,0], (nRepeat,1))\nCenters = np.concatenate((Centers1, Centers2, Centers3, Centers4))\nxvalues1 =  np.tile(Radii[0], nRepeat)\nxvalues2 =  np.tile(Radii[1], nRepeat)\nxvalues3 =  np.tile(Radii[2], nRepeat)\nxvalues4 =  np.tile(Radii[3], nRepeat)\nTotradii = np.concatenate((xvalues1, xvalues2, xvalues3, xvalues4))\nxrandom = np.random.randn(tot)\nxrange = xrandom * Totradii\nyrandom = np.random.randn(tot)\nyrange = yrandom * Totradii\nPoints = np.column_stack((xrange, yrange))\ndata = Points + Centers",
     "language": "python",
     "metadata": {},
     "outputs": [],
     "prompt_number": 9
    },
    {
     "cell_type": "code",
     "collapsed": false,
     "input": "# computing K-Means with K = 2 (2 clusters)\ncentroids,error = kmeans_gcf(data,2, NumIterations, Thresh, Parallelism, MaxMean)\n# assign each sample to a cluster\nidx,_ = vq(data,centroids)",
     "language": "python",
     "metadata": {},
     "outputs": [
      {
       "ename": "NameError",
       "evalue": "name 'kmeans_gcf' is not defined",
       "output_type": "pyerr",
       "traceback": [
        "\u001b[1;31m---------------------------------------------------------------------------\u001b[0m\n\u001b[1;31mNameError\u001b[0m                                 Traceback (most recent call last)",
        "\u001b[1;32m<ipython-input-10-156e1cba73ae>\u001b[0m in \u001b[0;36m<module>\u001b[1;34m()\u001b[0m\n\u001b[0;32m      1\u001b[0m \u001b[1;31m# computing K-Means with K = 2 (2 clusters)\u001b[0m\u001b[1;33m\u001b[0m\u001b[1;33m\u001b[0m\u001b[0m\n\u001b[1;32m----> 2\u001b[1;33m \u001b[0mcentroids\u001b[0m\u001b[1;33m,\u001b[0m\u001b[0merror\u001b[0m \u001b[1;33m=\u001b[0m \u001b[0mkmeans_gcf\u001b[0m\u001b[1;33m(\u001b[0m\u001b[0mdata\u001b[0m\u001b[1;33m,\u001b[0m\u001b[1;36m2\u001b[0m\u001b[1;33m,\u001b[0m \u001b[0mNumIterations\u001b[0m\u001b[1;33m,\u001b[0m \u001b[0mThresh\u001b[0m\u001b[1;33m,\u001b[0m \u001b[0mParallelism\u001b[0m\u001b[1;33m,\u001b[0m \u001b[0mMaxMean\u001b[0m\u001b[1;33m)\u001b[0m\u001b[1;33m\u001b[0m\u001b[0m\n\u001b[0m\u001b[0;32m      3\u001b[0m \u001b[1;31m# assign each sample to a cluster\u001b[0m\u001b[1;33m\u001b[0m\u001b[1;33m\u001b[0m\u001b[0m\n\u001b[0;32m      4\u001b[0m \u001b[0midx\u001b[0m\u001b[1;33m,\u001b[0m\u001b[0m_\u001b[0m \u001b[1;33m=\u001b[0m \u001b[0mvq\u001b[0m\u001b[1;33m(\u001b[0m\u001b[0mdata\u001b[0m\u001b[1;33m,\u001b[0m\u001b[0mcentroids\u001b[0m\u001b[1;33m)\u001b[0m\u001b[1;33m\u001b[0m\u001b[0m\n",
        "\u001b[1;31mNameError\u001b[0m: name 'kmeans_gcf' is not defined"
       ]
      }
     ],
     "prompt_number": 10
    },
    {
     "cell_type": "code",
     "collapsed": false,
     "input": "\n# some plt.plotting using numpy's logical indexing\nplt.figure(\"Clustering K=2 Large Radius Kmeans parallel {0} MaxMean {1} Iter {2}\".format(Parallelism, MaxMean, NumIterations))\nplt.title(\"K=2 Kmeans parallel {0} MaxMean {1} Iter {2} Distort {3:5.3f}\".format(Parallelism, MaxMean, NumIterations, error))\nplt.plot(data[idx==0,0],data[idx==0,1],'ob',\n data[idx==1,0],data[idx==1,1],'or')\nplt.plot(centroids[:,0],centroids[:,1],'sg',markersize=8)\nplt.show()\n",
     "language": "python",
     "metadata": {},
     "outputs": [
      {
       "ename": "NameError",
       "evalue": "name 'error' is not defined",
       "output_type": "pyerr",
       "traceback": [
        "\u001b[1;31m---------------------------------------------------------------------------\u001b[0m\n\u001b[1;31mNameError\u001b[0m                                 Traceback (most recent call last)",
        "\u001b[1;32m<ipython-input-12-2b0e90033879>\u001b[0m in \u001b[0;36m<module>\u001b[1;34m()\u001b[0m\n\u001b[0;32m      2\u001b[0m \u001b[1;31m# some plt.plotting using numpy's logical indexing\u001b[0m\u001b[1;33m\u001b[0m\u001b[1;33m\u001b[0m\u001b[0m\n\u001b[0;32m      3\u001b[0m \u001b[0mplt\u001b[0m\u001b[1;33m.\u001b[0m\u001b[0mfigure\u001b[0m\u001b[1;33m(\u001b[0m\u001b[1;34m\"Clustering K=2 Large Radius Kmeans parallel {0} MaxMean {1} Iter {2}\"\u001b[0m\u001b[1;33m.\u001b[0m\u001b[0mformat\u001b[0m\u001b[1;33m(\u001b[0m\u001b[0mParallelism\u001b[0m\u001b[1;33m,\u001b[0m \u001b[0mMaxMean\u001b[0m\u001b[1;33m,\u001b[0m \u001b[0mNumIterations\u001b[0m\u001b[1;33m)\u001b[0m\u001b[1;33m)\u001b[0m\u001b[1;33m\u001b[0m\u001b[0m\n\u001b[1;32m----> 4\u001b[1;33m \u001b[0mplt\u001b[0m\u001b[1;33m.\u001b[0m\u001b[0mtitle\u001b[0m\u001b[1;33m(\u001b[0m\u001b[1;34m\"K=2 Kmeans parallel {0} MaxMean {1} Iter {2} Distort {3:5.3f}\"\u001b[0m\u001b[1;33m.\u001b[0m\u001b[0mformat\u001b[0m\u001b[1;33m(\u001b[0m\u001b[0mParallelism\u001b[0m\u001b[1;33m,\u001b[0m \u001b[0mMaxMean\u001b[0m\u001b[1;33m,\u001b[0m \u001b[0mNumIterations\u001b[0m\u001b[1;33m,\u001b[0m \u001b[0merror\u001b[0m\u001b[1;33m)\u001b[0m\u001b[1;33m)\u001b[0m\u001b[1;33m\u001b[0m\u001b[0m\n\u001b[0m\u001b[0;32m      5\u001b[0m plt.plot(data[idx==0,0],data[idx==0,1],'ob',\n\u001b[0;32m      6\u001b[0m  data[idx==1,0],data[idx==1,1],'or')\n",
        "\u001b[1;31mNameError\u001b[0m: name 'error' is not defined"
       ]
      },
      {
       "metadata": {},
       "output_type": "display_data",
       "text": "<matplotlib.figure.Figure at 0x3ee8150>"
      }
     ],
     "prompt_number": 12
    },
    {
     "cell_type": "code",
     "collapsed": false,
     "input": "# computing K-Means with K = 4 (4 clusters)\ncentroids4,error = kmeans_gcf(data,4, NumIterations, Thresh, Parallelism, MaxMean)\n# assign each sample to a cluster\nidx4,_ = vq(data,centroids4)",
     "language": "python",
     "metadata": {},
     "outputs": [
      {
       "ename": "NameError",
       "evalue": "name 'kmeans_gcf' is not defined",
       "output_type": "pyerr",
       "traceback": [
        "\u001b[1;31m---------------------------------------------------------------------------\u001b[0m\n\u001b[1;31mNameError\u001b[0m                                 Traceback (most recent call last)",
        "\u001b[1;32m<ipython-input-13-fbd21ea76d6c>\u001b[0m in \u001b[0;36m<module>\u001b[1;34m()\u001b[0m\n\u001b[0;32m      1\u001b[0m \u001b[1;31m# computing K-Means with K = 4 (4 clusters)\u001b[0m\u001b[1;33m\u001b[0m\u001b[1;33m\u001b[0m\u001b[0m\n\u001b[1;32m----> 2\u001b[1;33m \u001b[0mcentroids4\u001b[0m\u001b[1;33m,\u001b[0m\u001b[0merror\u001b[0m \u001b[1;33m=\u001b[0m \u001b[0mkmeans_gcf\u001b[0m\u001b[1;33m(\u001b[0m\u001b[0mdata\u001b[0m\u001b[1;33m,\u001b[0m\u001b[1;36m4\u001b[0m\u001b[1;33m,\u001b[0m \u001b[0mNumIterations\u001b[0m\u001b[1;33m,\u001b[0m \u001b[0mThresh\u001b[0m\u001b[1;33m,\u001b[0m \u001b[0mParallelism\u001b[0m\u001b[1;33m,\u001b[0m \u001b[0mMaxMean\u001b[0m\u001b[1;33m)\u001b[0m\u001b[1;33m\u001b[0m\u001b[0m\n\u001b[0m\u001b[0;32m      3\u001b[0m \u001b[1;31m# assign each sample to a cluster\u001b[0m\u001b[1;33m\u001b[0m\u001b[1;33m\u001b[0m\u001b[0m\n\u001b[0;32m      4\u001b[0m \u001b[0midx4\u001b[0m\u001b[1;33m,\u001b[0m\u001b[0m_\u001b[0m \u001b[1;33m=\u001b[0m \u001b[0mvq\u001b[0m\u001b[1;33m(\u001b[0m\u001b[0mdata\u001b[0m\u001b[1;33m,\u001b[0m\u001b[0mcentroids4\u001b[0m\u001b[1;33m)\u001b[0m\u001b[1;33m\u001b[0m\u001b[0m\n",
        "\u001b[1;31mNameError\u001b[0m: name 'kmeans_gcf' is not defined"
       ]
      }
     ],
     "prompt_number": 13
    },
    {
     "cell_type": "code",
     "collapsed": false,
     "input": "\n# some plt.plotting using numpy's logical indexing\nplt.figure(\"Clustering K=4 Large Radius Kmeans parallel {0} MaxMean {1} Iter {2}\".format(Parallelism, MaxMean, NumIterations))\nplt.title(\"K=4 Kmeans parallel {0} MaxMean {1} Iter {2} Distort {3:5.3f}\".format(Parallelism, MaxMean, NumIterations, error))\nplt.plot(data[idx4==0,0],data[idx4==0,1],marker='o',markerfacecolor='blue', ls ='none')\nplt.plot(data[idx4==1,0],data[idx4==1,1],marker='o',markerfacecolor='red', ls ='none')\nplt.plot(data[idx4==2,0],data[idx4==2,1],marker='o',markerfacecolor='orange', ls ='none')\nplt.plot(data[idx4==3,0],data[idx4==3,1],marker='o',markerfacecolor='purple', ls ='none')\nplt.plot(centroids4[:,0],centroids4[:,1],'sg',markersize=8)\nplt.show()",
     "language": "python",
     "metadata": {},
     "outputs": []
    },
    {
     "cell_type": "code",
     "collapsed": false,
     "input": "# computing K-Means with K = 6 (6 clusters)\ncentroids,error = kmeans_gcf(data,6, NumIterations, Thresh, Parallelism, MaxMean)\n# assign each sample to a cluster\nidx,_ = vq(data,centroids)\n",
     "language": "python",
     "metadata": {},
     "outputs": []
    },
    {
     "cell_type": "code",
     "collapsed": false,
     "input": "\n# some plt.plotting using numpy's logical indexing\nplt.figure(\"Clustering K=6 Large Radius Kmeans parallel {0} MaxMean {1} Iter {2}\".format(Parallelism, MaxMean, NumIterations))\nplt.title(\"K=6 Kmeans parallel {0} MaxMean {1} Iter {2} Distort {3:5.3f}\".format(Parallelism, MaxMean, NumIterations, error))\nplt.plot(data[idx==0,0],data[idx==0,1],marker='o',markerfacecolor='blue', ls ='none')\nplt.plot(data[idx==1,0],data[idx==1,1],marker='o',markerfacecolor='red', ls ='none')\nplt.plot(data[idx==2,0],data[idx==2,1],marker='o',markerfacecolor='orange', ls ='none')\nplt.plot(data[idx==3,0],data[idx==3,1],marker='o',markerfacecolor='purple', ls ='none')\nplt.plot(data[idx==4,0],data[idx==4,1],marker='o',markerfacecolor='green', ls ='none')\nplt.plot(data[idx==5,0],data[idx==5,1],marker='o',markerfacecolor='magenta', ls ='none')\nplt.plot(centroids[:,0],centroids[:,1],'sk',markersize=8)\nplt.show()",
     "language": "python",
     "metadata": {},
     "outputs": []
    },
    {
     "cell_type": "code",
     "collapsed": false,
     "input": "# computing K-Means with K = 8 (8 clusters)\ncentroids4,error = kmeans_gcf(data,8, NumIterations, Thresh, Parallelism, MaxMean)\n# assign each sample to a cluster\nidx4,_ = vq(data,centroids4)",
     "language": "python",
     "metadata": {},
     "outputs": []
    },
    {
     "cell_type": "code",
     "collapsed": false,
     "input": "\n# some plt.plotting using numpy's logical indexing\nplt.figure(\"Clustering K=8 Large Radius Kmeans parallel {0} MaxMean {1} Iter {2}\".format(Parallelism, MaxMean, NumIterations))\nplt.title(\"K=8 Kmeans parallel {0} MaxMean {1} Iter {2} Distort {3:5.3f}\".format(Parallelism, MaxMean, NumIterations, error))\nplt.plot(data[idx4==0,0],data[idx4==0,1],marker='o',markerfacecolor='blue', ls ='none')\nplt.plot(data[idx4==1,0],data[idx4==1,1],marker='o',markerfacecolor='red', ls ='none')\nplt.plot(data[idx4==2,0],data[idx4==2,1],marker='o',markerfacecolor='orange', ls ='none')\nplt.plot(data[idx4==3,0],data[idx4==3,1],marker='o',markerfacecolor='purple', ls ='none')\nplt.plot(data[idx4==4,0],data[idx4==4,1],marker='o',markerfacecolor='green', ls ='none')\nplt.plot(data[idx4==5,0],data[idx4==5,1],marker='o',markerfacecolor='magenta', ls ='none')\nplt.plot(data[idx4==6,0],data[idx4==6,1],marker='o',markerfacecolor='yellow', ls ='none')\nplt.plot(data[idx4==7,0],data[idx4==7,1],marker='o',markerfacecolor='cyan', ls ='none')\nplt.plot(centroids4[:,0],centroids4[:,1],'sg',markersize=8)\nplt.show()\n",
     "language": "python",
     "metadata": {},
     "outputs": []
    },
    {
     "cell_type": "code",
     "collapsed": false,
     "input": "Radii = 0.25*Radii\nxvalues1 =  np.tile(Radii[0], nRepeat)\nxvalues2 =  np.tile(Radii[1], nRepeat)\nxvalues3 =  np.tile(Radii[2], nRepeat)\nxvalues4 =  np.tile(Radii[3], nRepeat)\nTotradii = np.concatenate((xvalues1, xvalues2, xvalues3, xvalues4))\nxrandom = np.random.randn(tot)\nxrange = xrandom * Totradii\nyrandom = np.random.randn(tot)\nyrange = yrandom * Totradii\nPoints = np.column_stack((xrange, yrange))\ndata = Points + Centers",
     "language": "python",
     "metadata": {},
     "outputs": []
    },
    {
     "cell_type": "code",
     "collapsed": false,
     "input": "# computing K-Means with K = 2 (2 clusters)\ncentroids,error = kmeans_gcf(data,2, NumIterations, Thresh, Parallelism, MaxMean)\n# assign each sample to a cluster\nidx,_ = vq(data,centroids)",
     "language": "python",
     "metadata": {},
     "outputs": []
    },
    {
     "cell_type": "code",
     "collapsed": false,
     "input": "# some plt.plotting using numpy's logical indexing\nplt.figure(\"Clustering K=2 Small Radius Kmeans parallel {0} MaxMean {1} Iter {2}\".format(Parallelism, MaxMean, NumIterations))\nplt.title(\"K=2 Kmeans parallel {0} MaxMean {1} Iter {2} Distort {3:5.3f}\".format(Parallelism, MaxMean, NumIterations, error))\nplt.plot(data[idx==0,0],data[idx==0,1],'ob',\n     data[idx==1,0],data[idx==1,1],'or')\nplt.plot(centroids[:,0],centroids[:,1],'sg',markersize=8)\nplt.show()",
     "language": "python",
     "metadata": {},
     "outputs": []
    },
    {
     "cell_type": "code",
     "collapsed": false,
     "input": "# computing K-Means with K = 4 (4 clusters)\ncentroids4,error = kmeans_gcf(data,4, NumIterations, Thresh, Parallelism, MaxMean)\n# assign each sample to a cluster\nidx4,_ = vq(data,centroids4)",
     "language": "python",
     "metadata": {},
     "outputs": []
    },
    {
     "cell_type": "code",
     "collapsed": false,
     "input": "# some plt.plotting using numpy's logical indexing\nplt.figure(\"Clustering K=4 Small Radius Kmeans parallel {0} MaxMean {1} Iter {2}\".format(Parallelism, MaxMean, NumIterations))\nplt.title(\"K=4 Kmeans parallel {0} MaxMean {1} Iter {2} Distort {3:5.3f}\".format(Parallelism, MaxMean, NumIterations, error))\nplt.plot(data[idx4==0,0],data[idx4==0,1],marker='o',markerfacecolor='blue', ls ='none')\nplt.plot(data[idx4==1,0],data[idx4==1,1],marker='o',markerfacecolor='red', ls ='none')\nplt.plot(data[idx4==2,0],data[idx4==2,1],marker='o',markerfacecolor='orange', ls ='none')\nplt.plot(data[idx4==3,0],data[idx4==3,1],marker='o',markerfacecolor='purple', ls ='none')\nplt.plot(centroids4[:,0],centroids4[:,1],'sg',markersize=8)\nplt.show()",
     "language": "python",
     "metadata": {},
     "outputs": []
    },
    {
     "cell_type": "code",
     "collapsed": false,
     "input": "Radii = 6*Radii\nxvalues1 =  np.tile(Radii[0], nRepeat)\nxvalues2 =  np.tile(Radii[1], nRepeat)\nxvalues3 =  np.tile(Radii[2], nRepeat)\nxvalues4 =  np.tile(Radii[3], nRepeat)\nTotradii = np.concatenate((xvalues1, xvalues2, xvalues3, xvalues4))\nxrandom = np.random.randn(tot)\nxrange = xrandom * Totradii\nyrandom = np.random.randn(tot)\nyrange = yrandom * Totradii\nPoints = np.column_stack((xrange, yrange))\ndata = Points + Centers",
     "language": "python",
     "metadata": {},
     "outputs": []
    },
    {
     "cell_type": "code",
     "collapsed": false,
     "input": "# computing K-Means with K = 2 (2 Very Large clusters)\ncentroids,error = kmeans_gcf(data,2, NumIterations, Thresh, Parallelism, MaxMean)\n# assign each sample to a cluster\nidx,_ = vq(data,centroids)",
     "language": "python",
     "metadata": {},
     "outputs": []
    },
    {
     "cell_type": "code",
     "collapsed": false,
     "input": "plt.figure(\"Clustering K=2 Very Large Radius Kmeans parallel {0} MaxMean {1} Iter {2}\".format(Parallelism, MaxMean, NumIterations))\nplt.title(\"K=2 Kmeans parallel {0} MaxMean {1} Iter {2} Distort {3:5.3f}\".format(Parallelism, MaxMean, NumIterations, error))\nplt.plot(data[idx==0,0],data[idx==0,1],'ob',\n     data[idx==1,0],data[idx==1,1],'or')\nplt.plot(centroids[:,0],centroids[:,1],'sg',markersize=8)\nplt.show()",
     "language": "python",
     "metadata": {},
     "outputs": []
    },
    {
     "cell_type": "code",
     "collapsed": false,
     "input": "# computing K-Means with K = 4 (4 Very Large clusters)\ncentroids4,error = kmeans_gcf(data,4, NumIterations, Thresh, Parallelism, MaxMean)\n# assign each sample to a cluster\nidx4,_ = vq(data,centroids4)",
     "language": "python",
     "metadata": {},
     "outputs": []
    },
    {
     "cell_type": "code",
     "collapsed": false,
     "input": "plt.figure(\"Clustering K=4 Very Large Radius Kmeans parallel {0} MaxMean {1} Iter {2}\".format(Parallelism, MaxMean, NumIterations))\nplt.title(\"K=4 Kmeans parallel {0} MaxMean {1} Iter {2} Distort {3:5.3f}\".format(Parallelism, MaxMean, NumIterations, error))\nplt.plot(data[idx4==0,0],data[idx4==0,1],marker='o',markerfacecolor='blue', ls ='none')\nplt.plot(data[idx4==1,0],data[idx4==1,1],marker='o',markerfacecolor='red', ls ='none')\nplt.plot(data[idx4==2,0],data[idx4==2,1],marker='o',markerfacecolor='orange', ls ='none')\nplt.plot(data[idx4==3,0],data[idx4==3,1],marker='o',markerfacecolor='purple', ls ='none')\nplt.plot(centroids4[:,0],centroids4[:,1],'sg',markersize=8)\nplt.show()",
     "language": "python",
     "metadata": {},
     "outputs": []
    },
    {
     "cell_type": "code",
     "collapsed": false,
     "input": "",
     "language": "python",
     "metadata": {},
     "outputs": []
    }
   ],
   "metadata": {}
  }
 ]
}
