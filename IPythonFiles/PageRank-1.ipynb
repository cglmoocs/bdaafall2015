{
 "metadata": {
  "name": "PageRank-1"
 },
 "nbformat": 3,
 "nbformat_minor": 0,
 "worksheets": [
  {
   "cells": [
    {
     "cell_type": "code",
     "collapsed": false,
     "input": "'''This file gets the page rank according to google page rank.'''\n#!/usr/bin/env python\n# Google Pagerank Checksum Algorithm (Firefox Toolbar)\n# Downloaded from http://pagerank.phurix.net/\n# Requires: Python >= 2.4 \n# Versions:\n# pagerank2.py 0.2 - Fixed a minor formatting bug\n# pagerank2.py 0.1 - Public release\n# Settings",
     "language": "python",
     "metadata": {},
     "outputs": []
    },
    {
     "cell_type": "code",
     "collapsed": false,
     "input": "\nimport httplib\n\nprhost='toolbarqueries.google.com'                                     #define the host      \nprpath='/tbr?client=navclient-auto&ch=%s&features=Rank&q=info:%s'       #define the path with 2 blanks(indicated by %s). These are for the hash of the query and the query respectively\n \n# Function definitions\n#The hash function which computes the hash for the query. Do not change this function\ndef GetHash (query):\n    SEED = \"Mining PageRank is AGAINST GOOGLE'S TERMS OF SERVICE.\"      \n    Result = 0x01020345\n    for i in range(len(query)) :\n        Result ^= ord(SEED[i%len(SEED)]) ^ ord(query[i])\n        Result = Result >> 23 | Result << 9\n        Result &= 0xffffffff\n    return '8%x' % Result\n\n'''This method makes http requests and recieves response regarding the page rank'''\ndef GetPageRank (query):\n    conn = httplib.HTTPConnection(prhost)                               #make connection to the host\n    hash = GetHash(query)                                               #compute hash of the query using the hash function\n    path = prpath % (hash,query)                                        #add the hash and actual query to the path.\n    conn.request(\"GET\", path)                                           #request\n    response = conn.getresponse()                                       #response\n    data = response.read()                                              #read data\n    conn.close()                                                        #close connection\n    return data.split(\":\")[-1]                              \n    \n'''Prints the query and the page rank obtained using the GetPageRank().'''\ndef PrintPageRank (query):\n\tprint query, \" PageRank \", GetPageRank(query)\n\treturn\n \nPrintPageRank(\"http://en.wikipedia.org\")\nPrintPageRank(\"http://www.soic.indiana.edu\")\nPrintPageRank(\"http://www.infomall.org\")",
     "language": "python",
     "metadata": {},
     "outputs": [
      {
       "output_type": "stream",
       "stream": "stdout",
       "text": "http://en.wikipedia.org  PageRank  "
      },
      {
       "output_type": "stream",
       "stream": "stdout",
       "text": "8\n\nhttp://www.soic.indiana.edu  PageRank  "
      },
      {
       "output_type": "stream",
       "stream": "stdout",
       "text": "6\n\nhttp://www.infomall.org  PageRank  "
      },
      {
       "output_type": "stream",
       "stream": "stdout",
       "text": "5\n\n"
      }
     ],
     "prompt_number": 1
    },
    {
     "cell_type": "code",
     "collapsed": false,
     "input": "",
     "language": "python",
     "metadata": {},
     "outputs": []
    }
   ],
   "metadata": {}
  }
 ]
}