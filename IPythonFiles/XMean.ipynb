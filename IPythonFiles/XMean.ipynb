{
 "metadata": {
  "name": "XMean"
 },
 "nbformat": 3,
 "nbformat_minor": 0,
 "worksheets": [
  {
   "cells": [
    {
     "cell_type": "code",
     "collapsed": false,
     "input": "\t'''This file has code to perform k-means clustering for the data in sample.csv. Make sure to include sample.csv in the working directory'''\nfrom pylab import plot,show\nfrom numpy import array\nfrom scipy.cluster.vq import kmeans,vq\nimport numpy as np\nimport matplotlib.pyplot as plt",
     "language": "python",
     "metadata": {},
     "outputs": [],
     "prompt_number": 1
    },
    {
     "cell_type": "code",
     "collapsed": false,
     "input": "data_m = [\n'\"Youyang\"\t64\t100',\n'Jeeyong\t72\t154',\n'Annie-Rae\t63\t125',\n'Hal\t66\t130',\n'Melanie\t67\t120',\n'YoHan\t71\t190',\n'Desmond\t70\t170',\n'Aditya\t73\t160',\n'Aliva\t64\t135',\n'Rolando\t69\t140',\n'Cheryl\t63\t110',\n'Quan\t71\t145',\n'Shannon\t69\t120',\n'Dongwon\t72\t160',\n'Kihwan\t70\t172',\n'Yasemen\t67\t115',\n'Mary-Anna\t63\t120',\n'Lilia\t62\t110',\n'David\t75\t208',\n'Jennifer\t68\t125',\n'JohnHilton\t70\t165',\n'Alana\t63\t125',\n'Debika\t63\t130',\n'Iris\t65\t120',\n'Vanessa\t74\t170',\n'Anneliese\t64\t120',\n'Clarice\t65\t130',\n'Cinque\t64\t112',\n'Jesslyn\t65\t117',\n'Jazalyn\t64\t160',\n'Rodrigue\t68\t165',\n'Tyran\t70\t140',\n'Ruchir\t68\t165',\n'Spencer\t72\t165',\n'ByungGuk\t71.5\t168',\n'Serge\t70\t140',\n'Ron\t67\t140',\n'Biao\t71\t140',\n'Zsolt\t72\t135',\n'Malcolm\t69\t120',\n'Ronald\t68\t150',\n'Corrie\t61\t120',\n'Kalena\t65\t130',\n'Lyndzey\t63\t120',\n'Christina\t62\t120',\n'Chirley\t60\t100',\n'Jung-Bin\t70\t140',\n'Bettina\t70\t160',\n'Camila\t65\t132',\n'Bernard\t72\t175',\n'Aamir\t67\t167',\n'Ramaldo\t69\t140',\n'Gokulakrishnan\t70\t172',\n'Alain\t70\t185',\n'Sebastien\t71\t168',\n'Dwayne\t70\t180',\n'Daryll\t69\t170',\n'Marcos\t70\t150',\n'In-Ho\t70\t170',\n'Karthekeyan\t71\t144',\n'Fnu\t66\t140',\n'Nikhil\t67\t175',\n'NGuessan\t67\t165',\n'Yannick\t72\t175',\n'Martina\t67\t150',\n'Teetat\t70\t130',\n'Jade\t67\t115',\n'Harshal\t70\t159',\n'MunLun\t70\t150',\n'Baotrang\t70\t140',\n'Ramazan\t65\t140',\n'Sherazad\t64\t135',\n'Samson\t63\t120',\n'Prajakta\t70\t140',\n'Phil\t70\t145',\n'Mickael\t70\t140',\n'Simon\t71\t160',\n'Giancarlo\t71\t145',\n'AshwinKumar\t71\t150',\n'Waleed\t67\t160',\n'Cesar\t70\t155',\n'Ushnik\t69\t140',\n'Hassan\t70\t145',\n'Milson\t72\t166',\n'Shitong\t69\t150'\n]",
     "language": "python",
     "metadata": {},
     "outputs": [],
     "prompt_number": 21
    },
    {
     "cell_type": "code",
     "collapsed": false,
     "input": "def loadCSV(fileName):\n    fileHandler = open(fileName, \"rt\")\n    lines = fileHandler.readlines()\n    fileHandler.close()\n    del lines[0] # remove the header\n    dataset = []\n    for line in lines:\n        instance = lineToTuple(line)\n        instance = np.delete(instance,0,0)\n        dataset.append(instance)\n    return array(dataset,dtype=np.float32)",
     "language": "python",
     "metadata": {},
     "outputs": [],
     "prompt_number": 10
    },
    {
     "cell_type": "code",
     "collapsed": false,
     "input": "def lineToTuple(line):\n    cleanLine = line.strip()                  # remove leading/trailing whitespace and newlines\n    lineList = cleanLine.split(\"\\t\")          # separate the fields\n    stringsToNumbers(lineList)            # convert strings into numbers\n    lineTuple = array(lineList)\n    return lineTuple",
     "language": "python",
     "metadata": {},
     "outputs": [],
     "prompt_number": 4
    },
    {
     "cell_type": "code",
     "collapsed": false,
     "input": "def create_matrix(txt):\n    matrix = np.genfromtxt(txt)\n    return matrix[:,1:3]",
     "language": "python",
     "metadata": {},
     "outputs": [],
     "prompt_number": 25
    },
    {
     "cell_type": "code",
     "collapsed": false,
     "input": "# Destructively converts all the string elements representing numbers\n# to floating point numbers.\n# Parameters:\n#   myList: a list of strings\n# Returns None\ndef stringsToNumbers(myList):\n    for i in range(len(myList)):\n        if (isValidNumberString(myList[i])):\n            myList[i] = float(myList[i])",
     "language": "python",
     "metadata": {},
     "outputs": []
    },
    {
     "cell_type": "code",
     "collapsed": false,
     "input": "# Checks if a given string can be safely converted into a positive float.\n# Parameters:\n#   s: the string to be checked\n# Returns: True if the string represents a positive float, False otherwise\ndef isValidNumberString(s):\n  if len(s) == 0:\n    return False\n  if len(s) > 1 and s[0] == \"-\":\n    s = s[1:]\n  for c in s:\n    if c not in \"0123456789.\":\n      return False\n  return True",
     "language": "python",
     "metadata": {},
     "outputs": [],
     "prompt_number": 26
    },
    {
     "cell_type": "code",
     "collapsed": false,
     "input": "# data generation. Set file location here\ndata = create_matrix(data_m)",
     "language": "python",
     "metadata": {},
     "outputs": [],
     "prompt_number": 30
    },
    {
     "cell_type": "code",
     "collapsed": false,
     "input": "\n# computing K-Means with K = 2 (2 clusters)but you can change this. Plot works upto 5 clusters\nK=5\ncentroids,_ = kmeans(data,K)\n# assign each sample to a cluster\nidx,_ = vq(data,centroids)\n",
     "language": "python",
     "metadata": {},
     "outputs": [],
     "prompt_number": 28
    },
    {
     "cell_type": "code",
     "collapsed": false,
     "input": "# some plotting using numpy's logical indexing\nplt.figure(\"Clustering K={0} T Shirts\".format(K))\nplot(data[idx==0,0],data[idx==0,1],'ob',\n     data[idx==1,0],data[idx==1,1],'or', data[idx==2,0],\n     data[idx==2,1],'og', data[idx==3,0],data[idx==3,1],'oy', data[idx==4,0],data[idx==4,1],'om')\nplot(centroids[:,0],centroids[:,1],'sk',markersize=8)\nshow()",
     "language": "python",
     "metadata": {},
     "outputs": [
      {
       "metadata": {},
       "output_type": "display_data",
       "png": "[encoded data removed]",
       "text": "<matplotlib.figure.Figure at 0x2edc050>"
      }
     ],
     "prompt_number": 29
    },
    {
     "cell_type": "code",
     "collapsed": false,
     "input": "",
     "language": "python",
     "metadata": {},
     "outputs": []
    }
   ],
   "metadata": {}
  }
 ]
}