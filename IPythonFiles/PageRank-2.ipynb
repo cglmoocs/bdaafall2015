{
 "metadata": {
  "name": "PageRank-2"
 },
 "nbformat": 3,
 "nbformat_minor": 0,
 "worksheets": [
  {
   "cells": [
    {
     "cell_type": "code",
     "collapsed": false,
     "input": "'''this file has code to compute the page rank as per the adjacency matrix'''\n\n# http://glowingpython.blogspot.com/2011/05/four-ways-to-compute-google-pagerank.html\nfrom numpy import *",
     "language": "python",
     "metadata": {},
     "outputs": []
    },
    {
     "cell_type": "code",
     "collapsed": false,
     "input": "\ndef powerMethodBase(A,x0,iter):\n \"\"\" basic power method. Stops after the number of iteration as specified in the \"iter\" paramneter.\"\"\"\n for i in range(iter):\n  x0 = dot(A,x0)\n  x0 = x0/linalg.norm(x0,1)\n return x0\n\ndef powerMethodBase1(A,x0,thresh,iter):\n  \"\"\" basic power method. Stops after the number of iteration as specified in the \"iter\" paramneter or after the improvement is less than threshold(thresh parameter) \"\"\"\n  x0 = x0/linalg.norm(x0,1)\n  x1 = x0\n  for i in range(iter):\n   x0 = dot(A,x0)\n   x0 = x0/linalg.norm(x0,1)\n   stop = linalg.norm(x0-x1,1)\n   if stop < thresh:\n    print \"Method 5 Stop \",stop, \" After \", i, \" iterations compare to default\", iter \n    break\n   x1 = x0\n  return x0\n \ndef powerMethod(A,x0,m,iter):\n \"\"\" power method modified to compute\n     the maximal real eigenvector \n     of the matrix M built on top of the input matrix A \"\"\"\n n = A.shape[1]\n delta = m*(array([1]*n,dtype='float64')/n) # array([1]*n is [1 1 ... 1] n times\n for i in range(iter):\n  x0 = dot((1-m),dot(A,x0)) + delta\n return x0\n\ndef maximalEigenvector(A):\n \"\"\" using the eig function to compute eigenvectors \"\"\"\n n = A.shape[1]\n w,v = linalg.eig(A)\n return abs(real(v[:n,0])/linalg.norm(v[:n,0],1))\n\ndef linearEquations(A,m):\n \"\"\" solving linear equations \n     of the system (I-(1-m)*A)*x = m*s \"\"\"\n n = A.shape[1]\n C = eye(n,n)-dot((1-m),A)\n b = m*(array([1]*n,dtype='float64')/n)\n return linalg.solve(C,b)\n\ndef getTeleMatrix(A,m):\n \"\"\" return the matrix M\n     of the web described by A \"\"\"\n n = A.shape[1]\n S = ones((n,n))/n\n return (1-m)*A+m*S\n\nA = array([ [0,     0,     0,     1, 0, 1],\n            [1/2.0, 0,     0,     0, 0, 0],\n            [0,     1/2.0, 0,     0, 0, 0],\n            [0,     1/2.0, 1/3.0, 0, 0, 0],\n            [0,     0,     1/3.0, 0, 0, 0],\n            [1/2.0, 0,     1/3.0, 0, 1, 0 ] ])\n\nn = A.shape[1] # A is n x n\nm = 0.15        #Damping factor of 0.15(indicates the probabilty of the user not chosing any of the links on the page he is on.)\nM = getTeleMatrix(A,m)\n\nx0 = ones(n)/ n\nx1 = powerMethod(A,x0,m,130)\nx2 = powerMethodBase(M,x0,130)\nx5 = powerMethodBase1(M,x0,1.0e-6, 130)\nx3 = maximalEigenvector(M)\nif m > 0.001:\n\tx4 = linearEquations(A,m)\n\n# comparison of the five methods\nprint \"\\nDamping factor \", m, \" Matrix Size \", n\nprint \"1 \", x1\nprint \"2 \", x2\nprint \"3 \", x3\nif m > 0.001:\n\tprint \"4 \", x4\nprint \"5 \", x5\n\nobs = array([ \n\t[0,     0, 0, 0, 0, 0, 1/3.0, 0],\n\t[1/2.0, 0, 1/2.0, 1/3.0, 0, 0, 0, 0],\n\t[1/2.0, 0, 0, 0, 0, 0, 0, 0],\n\t[0, 1, 0, 0, 0, 0, 0, 0],\n\t[0, 0, 1/2.0, 1/3.0, 0, 0, 1/3.0, 0],\n\t[0, 0, 0, 1/3.0, 1/3.0, 0, 0, 1/2.0],\n\t[0, 0, 0, 0, 1/3.0, 0, 0, 1/2.0],\t\t\n\t[0, 0, 0, 0, 1/3.0, 1, 1/3.0, 0] ])\n            \nn = obs.shape[1] # obs is n x n\nm = 0.0\t# No damping\nM = getTeleMatrix(obs,m)\n\nx0 = ones(n)/ n\nx1 = powerMethod(obs,x0,m,130)\nx2 = powerMethodBase(M,x0,130)\nx5 = powerMethodBase1(M,x0,1.0e-7, 130)\nx3 = maximalEigenvector(M)\nif m > 0.001:\n\tx4 = linearEquations(H,m)\n\n# comparison of the five methods\nprint \"\\nDamping factor \", m, \" Matrix Size \", n\nprint \"1 \", x1\nprint \"2 \", x2\nprint \"3 \", x3\nif m > 0.001:\n\tprint \"4 \", x4\nprint \"5 \", x5",
     "language": "python",
     "metadata": {},
     "outputs": [
      {
       "output_type": "stream",
       "stream": "stdout",
       "text": "Method 5 Stop  7.71193730729e-07  After  18  iterations compare to default 130\n\nDamping factor "
      },
      {
       "output_type": "stream",
       "stream": "stdout",
       "text": " 0.15  Matrix Size  6\n1  [ 0.32954577  0.16505695  0.0951492   0.12210815  0.05195894  0.23618099]\n2  [ 0.32954577  0.16505695  0.0951492   0.12210815  0.05195894  0.23618099]\n3  [ 0.32954577  0.16505695  0.0951492   0.12210815  0.05195894  0.23618099]\n4  [ 0.32954577  0.16505695  0.0951492   0.12210815  0.05195894  0.23618099]\n5  [ 0.32954573  0.16505694  0.09514925  0.12210812  0.05195887  0.23618107]\nMethod 5 Stop  9.98683905712e-08  After  87  iterations compare to default 130\n\nDamping factor  0.0  Matrix Size  8\n1  [ 0.06    0.0675  0.03    0.0675  0.0975  0.2025  0.18    0.295 ]\n2  [ 0.06    0.0675  0.03    0.0675  0.0975  0.2025  0.18    0.295 ]\n3  [ 0.06    0.0675  0.03    0.0675  0.0975  0.2025  0.18    0.295 ]\n5  [ 0.06        0.0675      0.03        0.0675      0.0975      0.20250001\n  0.18000001  0.29499999]\n"
      }
     ],
     "prompt_number": 1
    },
    {
     "cell_type": "code",
     "collapsed": false,
     "input": "",
     "language": "python",
     "metadata": {},
     "outputs": []
    }
   ],
   "metadata": {}
  }
 ]
}